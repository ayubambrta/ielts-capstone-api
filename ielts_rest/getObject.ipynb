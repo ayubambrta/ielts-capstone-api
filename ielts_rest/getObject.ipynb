{
 "cells": [
  {
   "cell_type": "code",
   "execution_count": 1,
   "metadata": {},
   "outputs": [],
   "source": [
    "import os\n",
    "import requests\n",
    "from google.cloud import storage"
   ]
  },
  {
   "cell_type": "code",
   "execution_count": 2,
   "metadata": {},
   "outputs": [
    {
     "name": "stdout",
     "output_type": "stream",
     "text": [
      "saving to c:\\Ayub Ambarita\\Project TA\\ielts_rest\\model\\model_ielts_fluency_real_data.h5\n"
     ]
    }
   ],
   "source": [
    "def download(url: str, dest_folder: str):\n",
    "    if not os.path.exists(dest_folder):\n",
    "        os.makedirs('./model1/')  # create folder if it does not exist\n",
    "\n",
    "    filename = url.split('/')[-1].replace(\" \", \"_\")  # be careful with file names\n",
    "    file_path = os.path.join(dest_folder, filename)\n",
    "\n",
    "    r = requests.get(url, stream=True)\n",
    "    if r.ok:\n",
    "        print(\"saving to\", os.path.abspath(file_path))\n",
    "        with open(file_path, 'wb') as f:\n",
    "            for chunk in r.iter_content(chunk_size=1024 * 8):\n",
    "                if chunk:\n",
    "                    f.write(chunk)\n",
    "                    f.flush()\n",
    "                    os.fsync(f.fileno())\n",
    "    else:  # HTTP status code 4XX/5XX\n",
    "        print(\"Download failed: status code {}\\n{}\".format(r.status_code, r.text))\n",
    "\n",
    "\n",
    "download(\"https://storage.googleapis.com/ielts-capstone/model_ielts_fluency_real_data.h5\", dest_folder=\"./model/\")"
   ]
  },
  {
   "cell_type": "code",
   "execution_count": null,
   "metadata": {},
   "outputs": [],
   "source": [
    "credential_path = \"C:\\Ayub Ambarita\\Project TA\\service-ielts-capstone-529517c1c5dc.json\"\n",
    "os.environ['GOOGLE_APPLICATION_CREDENTIALS'] = credential_path"
   ]
  },
  {
   "cell_type": "code",
   "execution_count": null,
   "metadata": {},
   "outputs": [],
   "source": [
    "def download_byte_range():\n",
    "    \"\"\"Downloads a blob from the bucket.\"\"\"\n",
    "    # The ID of your GCS bucket\n",
    "    bucket_name = \"ielts-capstone\"\n",
    "\n",
    "    # The ID of your GCS object\n",
    "    source_blob_name = \"model_ielts_fluency_real_data.h5\"\n",
    "\n",
    "    # # The starting byte at which to begin the download\n",
    "    # start_byte = 0\n",
    "\n",
    "    # # The ending byte at which to end the download\n",
    "    # end_byte = 125000000\n",
    "\n",
    "\n",
    "    # Initialise a client\n",
    "    storage_client = storage.Client(\"ielts-capstone\")\n",
    "    # Create a bucket object for our bucket\n",
    "    bucket = storage_client.get_bucket(bucket_name)\n",
    "    # Create a blob object from the filepath\n",
    "    blob = bucket.blob(\"ielts-capstone/model_ielts_fluency_real_data.h5\")\n",
    "    # Download the file to a destination\n",
    "    blob.download_to_filename(\"./model/\")\n",
    "\n",
    "    # The path to which the file should be downloaded\n",
    "    \n",
    "    # destination_file_name = \"./model\"\n",
    "    # storage_client = storage.Client(bucket_name)\n",
    "    # bucket = storage_client.bucket(bucket_name)\n",
    "\n",
    "    # Construct a client side representation of a blob.\n",
    "    # Note `Bucket.blob` differs from `Bucket.get_blob` as it doesn't retrieve\n",
    "    # any content from Google Cloud Storage. As we don't need additional data,\n",
    "    # using `Bucket.blob` is preferred here.\n",
    "    # blob = bucket.blob(source_blob_name)\n",
    "    # blob.download_to_filename(destination_file_name)\n",
    "\n",
    "    print(\n",
    "        \"Downloaded bytes {} to {} of object {} from bucket {} to local file {}.\".format(\n",
    "            source_blob_name, bucket_name, 'destination_file_name'\n",
    "        )\n",
    "    )\n",
    "\n",
    "download_byte_range()"
   ]
  },
  {
   "cell_type": "code",
   "execution_count": null,
   "metadata": {},
   "outputs": [],
   "source": []
  }
 ],
 "metadata": {
  "kernelspec": {
   "display_name": ".venv",
   "language": "python",
   "name": "python3"
  },
  "language_info": {
   "codemirror_mode": {
    "name": "ipython",
    "version": 3
   },
   "file_extension": ".py",
   "mimetype": "text/x-python",
   "name": "python",
   "nbconvert_exporter": "python",
   "pygments_lexer": "ipython3",
   "version": "3.11.3"
  },
  "orig_nbformat": 4
 },
 "nbformat": 4,
 "nbformat_minor": 2
}
